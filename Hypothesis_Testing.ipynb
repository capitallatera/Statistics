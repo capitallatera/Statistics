{
  "nbformat": 4,
  "nbformat_minor": 0,
  "metadata": {
    "colab": {
      "name": "Hypothesis Testing.ipynb",
      "provenance": [],
      "mount_file_id": "1gAuw83MKyCMVZSnAlouXkPA1jA3kxPPl",
      "authorship_tag": "ABX9TyPiYuiBLIHG4sDt/Df8ya92",
      "include_colab_link": true
    },
    "kernelspec": {
      "name": "python3",
      "display_name": "Python 3"
    }
  },
  "cells": [
    {
      "cell_type": "markdown",
      "metadata": {
        "id": "view-in-github",
        "colab_type": "text"
      },
      "source": [
        "<a href=\"https://colab.research.google.com/github/capitallatera/Statistics/blob/main/Hypothesis_Testing.ipynb\" target=\"_parent\"><img src=\"https://colab.research.google.com/assets/colab-badge.svg\" alt=\"Open In Colab\"/></a>"
      ]
    },
    {
      "cell_type": "code",
      "metadata": {
        "id": "IB-MdJKf04CV"
      },
      "source": [
        "import numpy as np # linear algebra\n",
        "import pandas as pd # data processing, CSV file I/O (e.g. pd.read_csv)"
      ],
      "execution_count": null,
      "outputs": []
    },
    {
      "cell_type": "code",
      "metadata": {
        "colab": {
          "base_uri": "https://localhost:8080/",
          "height": 204
        },
        "id": "nvN3gFpH1XKu",
        "outputId": "ecbe19b6-7df8-4a4c-9043-345c5fb96c80"
      },
      "source": [
        "# sales figure\n",
        "my_data=pd.read_csv(\"/content/drive/MyDrive/hypothesis_testing.csv\")\n",
        "my_data.head()"
      ],
      "execution_count": null,
      "outputs": [
        {
          "output_type": "execute_result",
          "data": {
            "text/html": [
              "<div>\n",
              "<style scoped>\n",
              "    .dataframe tbody tr th:only-of-type {\n",
              "        vertical-align: middle;\n",
              "    }\n",
              "\n",
              "    .dataframe tbody tr th {\n",
              "        vertical-align: top;\n",
              "    }\n",
              "\n",
              "    .dataframe thead th {\n",
              "        text-align: right;\n",
              "    }\n",
              "</style>\n",
              "<table border=\"1\" class=\"dataframe\">\n",
              "  <thead>\n",
              "    <tr style=\"text-align: right;\">\n",
              "      <th></th>\n",
              "      <th>Current</th>\n",
              "      <th>New</th>\n",
              "    </tr>\n",
              "  </thead>\n",
              "  <tbody>\n",
              "    <tr>\n",
              "      <th>0</th>\n",
              "      <td>264</td>\n",
              "      <td>277</td>\n",
              "    </tr>\n",
              "    <tr>\n",
              "      <th>1</th>\n",
              "      <td>261</td>\n",
              "      <td>269</td>\n",
              "    </tr>\n",
              "    <tr>\n",
              "      <th>2</th>\n",
              "      <td>267</td>\n",
              "      <td>263</td>\n",
              "    </tr>\n",
              "    <tr>\n",
              "      <th>3</th>\n",
              "      <td>272</td>\n",
              "      <td>266</td>\n",
              "    </tr>\n",
              "    <tr>\n",
              "      <th>4</th>\n",
              "      <td>258</td>\n",
              "      <td>262</td>\n",
              "    </tr>\n",
              "  </tbody>\n",
              "</table>\n",
              "</div>"
            ],
            "text/plain": [
              "   Current  New\n",
              "0      264  277\n",
              "1      261  269\n",
              "2      267  263\n",
              "3      272  266\n",
              "4      258  262"
            ]
          },
          "metadata": {
            "tags": []
          },
          "execution_count": 3
        }
      ]
    },
    {
      "cell_type": "markdown",
      "metadata": {
        "id": "igngjM2J3pzW"
      },
      "source": [
        "##### Hypotheis\n",
        "- H0: current  = new\n",
        "- H1: current != new"
      ]
    },
    {
      "cell_type": "code",
      "metadata": {
        "id": "WjngTJXX3918"
      },
      "source": [
        "current=my_data['Current']\n",
        "new=my_data['New']"
      ],
      "execution_count": null,
      "outputs": []
    },
    {
      "cell_type": "markdown",
      "metadata": {
        "id": "Pp9rRniE4TdP"
      },
      "source": [
        "Two Sample T-test"
      ]
    },
    {
      "cell_type": "code",
      "metadata": {
        "colab": {
          "base_uri": "https://localhost:8080/"
        },
        "id": "x10KMKXY4S4v",
        "outputId": "2a171211-1570-4634-f79f-aef5701d730a"
      },
      "source": [
        "from scipy.stats import ttest_ind\n",
        "ttest_ind(current,new)"
      ],
      "execution_count": null,
      "outputs": [
        {
          "output_type": "execute_result",
          "data": {
            "text/plain": [
              "Ttest_indResult(statistic=1.3283615935245678, pvalue=0.18793228491854663)"
            ]
          },
          "metadata": {
            "tags": []
          },
          "execution_count": 5
        }
      ]
    },
    {
      "cell_type": "markdown",
      "metadata": {
        "id": "krr97RXC4iOT"
      },
      "source": [
        "Accepting the H0 hypothesis"
      ]
    },
    {
      "cell_type": "markdown",
      "metadata": {
        "id": "nK_kmd4v40zE"
      },
      "source": [
        "Two sample Z-test"
      ]
    },
    {
      "cell_type": "code",
      "metadata": {
        "colab": {
          "base_uri": "https://localhost:8080/"
        },
        "id": "64lb5KtI43z_",
        "outputId": "9f42de36-51e5-4cbb-aca2-d3b540505546"
      },
      "source": [
        "from statsmodels.stats import weightstats as stests\n",
        "ztest,pval1=stests.ztest(current,x2=new,value=0,alternative='two-sided')  # two tail\n",
        "print(float(pval1))"
      ],
      "execution_count": null,
      "outputs": [
        {
          "output_type": "stream",
          "text": [
            "0.18405868087594723\n"
          ],
          "name": "stdout"
        }
      ]
    },
    {
      "cell_type": "markdown",
      "metadata": {
        "id": "1K2YnAD25WyR"
      },
      "source": [
        "- it is same \n",
        "- t-distribution will start following the z-distribution after the certain value which is 30\n",
        "- When degree of freedom which is (n-1) is start increasing \n",
        "n will also increase resulting to  t-distribution will start following z-distribution"
      ]
    },
    {
      "cell_type": "markdown",
      "metadata": {
        "id": "g2USKz2e6Ygb"
      },
      "source": [
        "Paird T-test"
      ]
    },
    {
      "cell_type": "code",
      "metadata": {
        "colab": {
          "base_uri": "https://localhost:8080/"
        },
        "id": "-rlB7xJZ6avz",
        "outputId": "d9af2fe8-582b-4ddf-af9e-5cb0aefb1509"
      },
      "source": [
        "from scipy import stats\n",
        "stats.ttest_rel(current,new)"
      ],
      "execution_count": null,
      "outputs": [
        {
          "output_type": "execute_result",
          "data": {
            "text/plain": [
              "Ttest_relResult(statistic=1.2769699827911767, pvalue=0.20916361823147053)"
            ]
          },
          "metadata": {
            "tags": []
          },
          "execution_count": 7
        }
      ]
    },
    {
      "cell_type": "markdown",
      "metadata": {
        "id": "XQu3l9wg9Zn-"
      },
      "source": [
        "- Do ask for is there any margin added ; like advertisement, promotions and discounts\n"
      ]
    }
  ]
}