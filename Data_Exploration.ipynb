{
  "nbformat": 4,
  "nbformat_minor": 0,
  "metadata": {
    "colab": {
      "name": "Data Exploration",
      "provenance": [],
      "mount_file_id": "1b2Eu3XjCfONVkWXWhm7_ybpv5DCAdvwQ",
      "authorship_tag": "ABX9TyMXSAbU95N1RxV35DcivgMp",
      "include_colab_link": true
    },
    "kernelspec": {
      "name": "python3",
      "display_name": "Python 3"
    }
  },
  "cells": [
    {
      "cell_type": "markdown",
      "metadata": {
        "id": "view-in-github",
        "colab_type": "text"
      },
      "source": [
        "<a href=\"https://colab.research.google.com/github/capitallatera/Statistics/blob/main/Data_Exploration.ipynb\" target=\"_parent\"><img src=\"https://colab.research.google.com/assets/colab-badge.svg\" alt=\"Open In Colab\"/></a>"
      ]
    },
    {
      "cell_type": "code",
      "metadata": {
        "colab": {
          "base_uri": "https://localhost:8080/",
          "height": 279
        },
        "id": "dbvmJgy2PbFo",
        "outputId": "df9344b8-c6cd-41f8-8da7-55c82015edf4"
      },
      "source": [
        "import pandas as pd\n",
        "import seaborn as sns\n",
        "import matplotlib.pyplot as plt\n",
        "\n",
        "datafile=\"/content/drive/MyDrive/DataSet_Main/PlantGrowth.csv\"\n",
        "data=pd.read_csv(datafile)\n",
        "\n",
        "#create a boxplot\n",
        "# data.boxplot('weight', by='group',figsize=(12,8))\n",
        "sns.boxplot(x=\"weight\",y=\"group\",data=data,palette=\"PRGn\")\n",
        "# plt.show()   \n",
        "\n",
        "ctrl=data['weight'][data.group=='ctrl']\n",
        "\n",
        "grps=pd.unique(data.group.values)   # unique groups \n",
        "d_data={grp:data['weight'][data.group==grp] for grp in grps}\n",
        "\n",
        "k=len(pd.unique(data.group))  #number of conditions\n",
        "N=len(data.values)  # conditions times participants\n",
        "n=data.groupby('group').size()[0] # participants in each condition\n",
        "\n",
        "# print(d_data)"
      ],
      "execution_count": null,
      "outputs": [
        {
          "output_type": "display_data",
          "data": {
            "image/png": "[encoded data removed]",
            "text/plain": [
              "<Figure size 432x288 with 1 Axes>"
            ]
          },
          "metadata": {
            "tags": [],
            "needs_background": "light"
          }
        }
      ]
    },
    {
      "cell_type": "code",
      "metadata": {
        "colab": {
          "base_uri": "https://localhost:8080/"
        },
        "id": "FCSF1WGLWdCV",
        "outputId": "2b40bc8c-a236-4d9e-8e84-16143250358d"
      },
      "source": [
        "import statsmodels.api as sm\n",
        "from statsmodels.formula.api import ols\n",
        "\n",
        "mod=ols('weight ~ group', data=data).fit()\n",
        "\n",
        "aov_table=sm.stats.anova_lm(mod,typ=2)\n",
        "print(aov_table)"
      ],
      "execution_count": null,
      "outputs": [
        {
          "output_type": "stream",
          "text": [
            "            sum_sq    df         F   PR(>F)\n",
            "group      3.76634   2.0  4.846088  0.01591\n",
            "Residual  10.49209  27.0       NaN      NaN\n"
          ],
          "name": "stdout"
        }
      ]
    },
    {
      "cell_type": "code",
      "metadata": {
        "colab": {
          "base_uri": "https://localhost:8080/"
        },
        "id": "2vZVirGjZD5T",
        "outputId": "15a28533-1d4f-4210-f8a8-7422f37deb3e"
      },
      "source": [
        "from statsmodels.stats.multicomp import pairwise_tukeyhsd\n",
        "from statsmodels.stats.multicomp import MultiComparison\n",
        "\n",
        "mc=MultiComparison(data['weight'],data['group'])\n",
        "result=mc.tukeyhsd()\n",
        "\n",
        "print(result)\n",
        "print(mc.groupsunique)"
      ],
      "execution_count": null,
      "outputs": [
        {
          "output_type": "stream",
          "text": [
            "Multiple Comparison of Means - Tukey HSD, FWER=0.05\n",
            "===================================================\n",
            "group1 group2 meandiff p-adj   lower  upper  reject\n",
            "---------------------------------------------------\n",
            "  ctrl   trt1   -0.371 0.3921 -1.0621 0.3201  False\n",
            "  ctrl   trt2    0.494  0.198 -0.1971 1.1851  False\n",
            "  trt1   trt2    0.865  0.012  0.1739 1.5561   True\n",
            "---------------------------------------------------\n",
            "['ctrl' 'trt1' 'trt2']\n"
          ],
          "name": "stdout"
        }
      ]
    }
  ]
}